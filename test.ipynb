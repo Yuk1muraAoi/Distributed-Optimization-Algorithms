{
 "cells": [
  {
   "cell_type": "code",
   "execution_count": 1,
   "id": "5ebf1be7-67ab-4410-86b4-ee2e6329671c",
   "metadata": {
    "tags": []
   },
   "outputs": [],
   "source": [
    "import torch"
   ]
  },
  {
   "cell_type": "code",
   "execution_count": 24,
   "id": "bae0e6a7-d98a-41ae-974c-986835f95471",
   "metadata": {
    "tags": []
   },
   "outputs": [],
   "source": [
    "x = [i for i in range(1, 6)]"
   ]
  },
  {
   "cell_type": "code",
   "execution_count": 25,
   "id": "d7143dbc-e291-430e-aef7-b3bb40556be1",
   "metadata": {
    "tags": []
   },
   "outputs": [],
   "source": [
    "y = [[each] for each in x]"
   ]
  },
  {
   "cell_type": "code",
   "execution_count": 26,
   "id": "531049c2-21fe-4b74-a663-cafafebd70b7",
   "metadata": {
    "tags": []
   },
   "outputs": [
    {
     "data": {
      "text/plain": [
       "([1, 2, 3, 4, 5], [[1], [2], [3], [4], [5]])"
      ]
     },
     "execution_count": 26,
     "metadata": {},
     "output_type": "execute_result"
    }
   ],
   "source": [
    "x, y"
   ]
  },
  {
   "cell_type": "code",
   "execution_count": 32,
   "id": "b8962707-e61b-4681-91a4-5cdbd5a5b1db",
   "metadata": {
    "tags": []
   },
   "outputs": [],
   "source": [
    "x = [[1, 2, 3],\n",
    "     [4, 5],\n",
    "     [6, 7, 8]]"
   ]
  },
  {
   "cell_type": "code",
   "execution_count": 33,
   "id": "02689d45-7952-4f49-adae-470bdd3fa201",
   "metadata": {
    "tags": []
   },
   "outputs": [
    {
     "name": "stdout",
     "output_type": "stream",
     "text": [
      "2450100526656\n",
      "2450100526656\n"
     ]
    }
   ],
   "source": [
    "y = []\n",
    "print(id(y))\n",
    "y += [[each] for each in x]\n",
    "print(id(y))"
   ]
  },
  {
   "cell_type": "code",
   "execution_count": 34,
   "id": "ae7d3564-ad51-460a-b33e-18dc62f303b2",
   "metadata": {
    "tags": []
   },
   "outputs": [
    {
     "data": {
      "text/plain": [
       "([[1, 2, 3], [4, 5], [6, 7, 8]], [[[1, 2, 3]], [[4, 5]], [[6, 7, 8]]])"
      ]
     },
     "execution_count": 34,
     "metadata": {},
     "output_type": "execute_result"
    }
   ],
   "source": [
    "x, y"
   ]
  },
  {
   "cell_type": "code",
   "execution_count": 73,
   "id": "4115d418-67d8-48a1-ab7f-6c03839b68e5",
   "metadata": {
    "tags": []
   },
   "outputs": [],
   "source": [
    "x = [[1, 2, 3],\n",
    "     [4, 5],\n",
    "     [6, 7, 8]]"
   ]
  },
  {
   "cell_type": "code",
   "execution_count": 68,
   "id": "ba87cf2f-893c-4740-b3af-dc4f65ba4a77",
   "metadata": {
    "tags": []
   },
   "outputs": [],
   "source": [
    "y = [0] * 3"
   ]
  },
  {
   "cell_type": "code",
   "execution_count": 69,
   "id": "7c4a9481-d6cd-400f-8050-7fc3f25f0a2b",
   "metadata": {
    "tags": []
   },
   "outputs": [
    {
     "data": {
      "text/plain": [
       "([[1, 2, 3], [4, 5], [6, 7, 8]], [0, 0, 0])"
      ]
     },
     "execution_count": 69,
     "metadata": {},
     "output_type": "execute_result"
    }
   ],
   "source": [
    "x, y"
   ]
  },
  {
   "cell_type": "code",
   "execution_count": 113,
   "id": "06a9b77a-0422-422f-aa94-e9abc2318cee",
   "metadata": {
    "tags": []
   },
   "outputs": [],
   "source": [
    "x = [[1, 2],\n",
    "     [4, 5],\n",
    "     [6, 7]]\n",
    "tmp = [torch.tensor(each) for each in x]"
   ]
  },
  {
   "cell_type": "code",
   "execution_count": 114,
   "id": "8ded3836-4aae-46ee-b3da-3d5673ecf857",
   "metadata": {
    "tags": []
   },
   "outputs": [
    {
     "data": {
      "text/plain": [
       "[tensor([1, 2]), tensor([4, 5]), tensor([6, 7])]"
      ]
     },
     "execution_count": 114,
     "metadata": {},
     "output_type": "execute_result"
    }
   ],
   "source": [
    "tmp"
   ]
  },
  {
   "cell_type": "code",
   "execution_count": 103,
   "id": "5b98c918-4f28-4365-850e-d234ed445445",
   "metadata": {
    "tags": []
   },
   "outputs": [
    {
     "name": "stdout",
     "output_type": "stream",
     "text": [
      "tensor([[1., 2.],\n",
      "        [4., 5.],\n",
      "        [6., 7.]])\n"
     ]
    }
   ],
   "source": [
    "x = torch.zeros((len(x), len(x[0])))\n",
    "for i in range(0, 3):\n",
    "    x[i] = tmp[i]\n",
    "print(x)"
   ]
  },
  {
   "cell_type": "code",
   "execution_count": 107,
   "id": "209f0525-e51a-4c87-9267-4a5c304ee267",
   "metadata": {
    "tags": []
   },
   "outputs": [],
   "source": [
    "n = len(x[0])"
   ]
  },
  {
   "cell_type": "code",
   "execution_count": 108,
   "id": "26b7656c-9656-4a38-a729-a489100e5d22",
   "metadata": {
    "tags": []
   },
   "outputs": [
    {
     "data": {
      "text/plain": [
       "2"
      ]
     },
     "execution_count": 108,
     "metadata": {},
     "output_type": "execute_result"
    }
   ],
   "source": [
    "n"
   ]
  },
  {
   "cell_type": "code",
   "execution_count": 101,
   "id": "34926c78-e4f4-4d20-8978-ea073ac87b4a",
   "metadata": {
    "tags": []
   },
   "outputs": [
    {
     "name": "stdout",
     "output_type": "stream",
     "text": [
      "[[tensor([1, 2]), tensor([4, 5])], [tensor([6, 7])]]\n"
     ]
    }
   ],
   "source": [
    "tmp = [tmp[0:2], [tmp[2]]]\n",
    "print(tmp)"
   ]
  },
  {
   "cell_type": "code",
   "execution_count": 103,
   "id": "73a60820-5ba9-4f0c-b5bf-dc3b65b7fa9a",
   "metadata": {
    "tags": []
   },
   "outputs": [
    {
     "data": {
      "text/plain": [
       "[tensor([1, 2]), tensor([4, 5]), tensor([6, 7])]"
      ]
     },
     "execution_count": 103,
     "metadata": {},
     "output_type": "execute_result"
    }
   ],
   "source": [
    "[word for sentence in tmp for word in sentence]"
   ]
  },
  {
   "cell_type": "code",
   "execution_count": 114,
   "id": "9ac0757a-280f-4371-9a72-67e12a560deb",
   "metadata": {
    "tags": []
   },
   "outputs": [
    {
     "name": "stdout",
     "output_type": "stream",
     "text": [
      "1\n"
     ]
    }
   ],
   "source": [
    "if([1]):\n",
    "    x = 1\n",
    "else:\n",
    "    x = 2\n",
    "print(x)"
   ]
  },
  {
   "cell_type": "code",
   "execution_count": 129,
   "id": "fbfae1fc-f686-4ab8-a601-9ad515298f74",
   "metadata": {
    "tags": []
   },
   "outputs": [],
   "source": [
    "com_mat = [[0] * 4 for _ in range(0, 4)]"
   ]
  },
  {
   "cell_type": "code",
   "execution_count": 130,
   "id": "4efa7d14-1f71-4c8e-aeee-c5dd49df45dc",
   "metadata": {
    "tags": []
   },
   "outputs": [],
   "source": [
    "for i in range(0, 4 - 1):\n",
    "    com_mat[i][i + 1] = 1\n",
    "    com_mat[i + 1][i] = 1"
   ]
  },
  {
   "cell_type": "code",
   "execution_count": 131,
   "id": "8478ec67-cdee-4fa3-baa7-9abbafb42f37",
   "metadata": {
    "tags": []
   },
   "outputs": [],
   "source": [
    "i += 1\n",
    "com_mat[i][0] = 1\n",
    "com_mat[0][i] = 1"
   ]
  },
  {
   "cell_type": "code",
   "execution_count": 134,
   "id": "8591e7bc-8579-4b13-ae94-ebd2c2248dc6",
   "metadata": {
    "tags": []
   },
   "outputs": [],
   "source": [
    "del x"
   ]
  },
  {
   "cell_type": "code",
   "execution_count": 136,
   "id": "89f589f4-3a7c-4d3f-bef5-411e4e1b44f4",
   "metadata": {
    "tags": []
   },
   "outputs": [
    {
     "ename": "NameError",
     "evalue": "name 'x' is not defined",
     "output_type": "error",
     "traceback": [
      "\u001b[1;31m---------------------------------------------------------------------------\u001b[0m",
      "\u001b[1;31mNameError\u001b[0m                                 Traceback (most recent call last)",
      "Cell \u001b[1;32mIn[136], line 1\u001b[0m\n\u001b[1;32m----> 1\u001b[0m \u001b[38;5;28;01mif\u001b[39;00m(\u001b[43mx\u001b[49m \u001b[38;5;129;01mis\u001b[39;00m \u001b[38;5;28;01mNone\u001b[39;00m):\n\u001b[0;32m      2\u001b[0m     \u001b[38;5;28mprint\u001b[39m(\u001b[38;5;241m1\u001b[39m)\n\u001b[0;32m      3\u001b[0m \u001b[38;5;28;01melse\u001b[39;00m:\n",
      "\u001b[1;31mNameError\u001b[0m: name 'x' is not defined"
     ]
    }
   ],
   "source": [
    "if(x is None):\n",
    "    print(1)\n",
    "else:\n",
    "    print(2)"
   ]
  },
  {
   "cell_type": "code",
   "execution_count": 141,
   "id": "0b4f4d4d-5cae-40b6-882f-11ff6c5f15e8",
   "metadata": {
    "tags": []
   },
   "outputs": [
    {
     "data": {
      "text/plain": [
       "[tensor([1., 2.]), tensor([4., 5.]), tensor([6., 7.])]"
      ]
     },
     "execution_count": 141,
     "metadata": {},
     "output_type": "execute_result"
    }
   ],
   "source": [
    "[each for each in x]"
   ]
  },
  {
   "cell_type": "code",
   "execution_count": 149,
   "id": "409bf556-a9c7-4e3a-ae70-c8b70f86e8bc",
   "metadata": {
    "tags": []
   },
   "outputs": [],
   "source": [
    "class a():\n",
    "    def __init__(self, val):\n",
    "        self.val = val\n",
    "class A(list[a]):\n",
    "    def __init__(self, vals):\n",
    "        self.num = len(vals)\n",
    "        for i in range(0, self.num):\n",
    "            self.append(a(vals[i]))"
   ]
  },
  {
   "cell_type": "code",
   "execution_count": 150,
   "id": "cf9b9038-b0d7-4d9f-941a-f08148837e96",
   "metadata": {
    "tags": []
   },
   "outputs": [],
   "source": [
    "vals = [1, 2, 3]\n",
    "x = A(vals)"
   ]
  },
  {
   "cell_type": "code",
   "execution_count": 151,
   "id": "4d154f10-fcee-4241-a983-5564595cb63a",
   "metadata": {
    "tags": []
   },
   "outputs": [
    {
     "data": {
      "text/plain": [
       "<__main__.a at 0x23a097afdc0>"
      ]
     },
     "execution_count": 151,
     "metadata": {},
     "output_type": "execute_result"
    }
   ],
   "source": [
    "x[0]"
   ]
  },
  {
   "cell_type": "code",
   "execution_count": 10,
   "id": "1b56a9c1-a32f-4d20-9793-87cf52e1e3e9",
   "metadata": {},
   "outputs": [],
   "source": [
    "x = dict({'':[]})"
   ]
  },
  {
   "cell_type": "code",
   "execution_count": 11,
   "id": "f9385853-b340-4bf1-8510-55438be83f11",
   "metadata": {
    "tags": []
   },
   "outputs": [
    {
     "data": {
      "text/plain": [
       "{'': []}"
      ]
     },
     "execution_count": 11,
     "metadata": {},
     "output_type": "execute_result"
    }
   ],
   "source": [
    "x"
   ]
  },
  {
   "cell_type": "code",
   "execution_count": 14,
   "id": "4d5ae0d2-1ea9-4f8b-a408-cf639b90332f",
   "metadata": {
    "tags": []
   },
   "outputs": [],
   "source": [
    "x['grad']=[]"
   ]
  },
  {
   "cell_type": "code",
   "execution_count": 15,
   "id": "35063fcb-aa92-4555-9aba-35951dfffc83",
   "metadata": {
    "tags": []
   },
   "outputs": [
    {
     "data": {
      "text/plain": [
       "{'': [], 'grad': []}"
      ]
     },
     "execution_count": 15,
     "metadata": {},
     "output_type": "execute_result"
    }
   ],
   "source": [
    "x"
   ]
  },
  {
   "cell_type": "code",
   "execution_count": 17,
   "id": "9590f528-21c9-4495-8565-56ee4352b90b",
   "metadata": {},
   "outputs": [],
   "source": [
    "params = torch.zeros(2, requires_grad=True)"
   ]
  },
  {
   "cell_type": "code",
   "execution_count": 18,
   "id": "5e189c7d-19a2-47c9-8f72-656cd7c3f118",
   "metadata": {
    "tags": []
   },
   "outputs": [],
   "source": [
    "def func(_data, _params):\n",
    "    return torch.sum(\n",
    "        (_params[0] * _data[:, 0] + _params[1] - _data[:, 1]) ** 2)"
   ]
  },
  {
   "cell_type": "code",
   "execution_count": 19,
   "id": "6841c00e-8d15-4b69-bab7-f263a882bede",
   "metadata": {
    "tags": []
   },
   "outputs": [],
   "source": [
    "data1 = torch.tensor([[-1, -1], [1, 3]])\n",
    "data2 = torch.tensor([[0, 1]])"
   ]
  },
  {
   "cell_type": "code",
   "execution_count": 20,
   "id": "f36e4f5c-4294-4cd1-b388-3daed8ec9508",
   "metadata": {
    "tags": []
   },
   "outputs": [],
   "source": [
    "p1 = params.clone().detach()\n",
    "p1.requires_grad = True\n",
    "p2 = params.clone().detach()\n",
    "p2.requires_grad = True"
   ]
  },
  {
   "cell_type": "code",
   "execution_count": 21,
   "id": "754cdce0-7f0e-43aa-a475-925d35964aa5",
   "metadata": {
    "tags": []
   },
   "outputs": [
    {
     "name": "stdout",
     "output_type": "stream",
     "text": [
      "2284783490512 2284783498192 2284783499952\n",
      "True True True\n"
     ]
    }
   ],
   "source": [
    "print(id(params), id(p1), id(p2))\n",
    "print(params.requires_grad, p1.requires_grad, p2.requires_grad)"
   ]
  },
  {
   "cell_type": "code",
   "execution_count": 22,
   "id": "04f1ee04-6ccc-4c1a-9b2e-44dbc0414c27",
   "metadata": {
    "tags": []
   },
   "outputs": [],
   "source": [
    "y1 = func(data1, p1)\n",
    "y2 = func(data2, p2)"
   ]
  },
  {
   "cell_type": "code",
   "execution_count": 23,
   "id": "da9462b4-cf94-450d-bdcf-5f44bd3006e9",
   "metadata": {
    "tags": []
   },
   "outputs": [
    {
     "data": {
      "text/plain": [
       "(tensor(10., grad_fn=<SumBackward0>), tensor(1., grad_fn=<SumBackward0>))"
      ]
     },
     "execution_count": 23,
     "metadata": {},
     "output_type": "execute_result"
    }
   ],
   "source": [
    "y1, y2"
   ]
  },
  {
   "cell_type": "code",
   "execution_count": 24,
   "id": "52e5f7d3-2655-4319-84fb-3c3abca8f392",
   "metadata": {
    "tags": []
   },
   "outputs": [],
   "source": [
    "y1.backward()\n",
    "y2.backward()"
   ]
  },
  {
   "cell_type": "code",
   "execution_count": 25,
   "id": "62ac248b-f27a-4c15-9dea-bdce6d00ce4e",
   "metadata": {
    "tags": []
   },
   "outputs": [
    {
     "name": "stdout",
     "output_type": "stream",
     "text": [
      "None\n",
      "tensor([-8., -4.])\n",
      "tensor([ 0., -2.])\n"
     ]
    }
   ],
   "source": [
    "print(params.grad)\n",
    "print(p1.grad)\n",
    "print(p2.grad)"
   ]
  },
  {
   "cell_type": "code",
   "execution_count": 81,
   "id": "54786af1-41b3-43dd-b311-eb8a67010ca4",
   "metadata": {
    "tags": []
   },
   "outputs": [],
   "source": [
    "val = 0\n",
    "val += func(data1, p1)\n",
    "val += func(data2, p2)"
   ]
  },
  {
   "cell_type": "code",
   "execution_count": 45,
   "id": "c20f4f37-e217-4d2f-9e14-ef7466eda12d",
   "metadata": {
    "tags": []
   },
   "outputs": [],
   "source": [
    "p1_ = p1.clone().detach()\n",
    "p1.requires_grad = True\n",
    "p1_.grad = p1.grad.clone()"
   ]
  },
  {
   "cell_type": "code",
   "execution_count": 46,
   "id": "124828a1-eb9a-4766-a360-f265bd5e9fdd",
   "metadata": {
    "tags": []
   },
   "outputs": [
    {
     "name": "stdout",
     "output_type": "stream",
     "text": [
      "tensor([-8., -4.])\n",
      "False\n"
     ]
    }
   ],
   "source": [
    "print(p1_.grad)\n",
    "print(id(p1.grad) == id(p1_.grad))"
   ]
  },
  {
   "cell_type": "code",
   "execution_count": 50,
   "id": "24b7b2c9-6d08-4e31-a787-33b08e7f97b9",
   "metadata": {
    "tags": []
   },
   "outputs": [
    {
     "name": "stdout",
     "output_type": "stream",
     "text": [
      "yes\n"
     ]
    }
   ],
   "source": [
    "if(p1 != None):\n",
    "    print('yes')"
   ]
  },
  {
   "cell_type": "code",
   "execution_count": 82,
   "id": "bc79ea86-4411-4c33-a87d-19a6b340ae78",
   "metadata": {
    "tags": []
   },
   "outputs": [],
   "source": [
    "val.backward()"
   ]
  },
  {
   "cell_type": "code",
   "execution_count": 112,
   "id": "7a8cf64f-3aff-45b6-bbac-0c941f803ee9",
   "metadata": {
    "tags": []
   },
   "outputs": [
    {
     "data": {
      "text/plain": [
       "torch.Size([0])"
      ]
     },
     "execution_count": 112,
     "metadata": {},
     "output_type": "execute_result"
    }
   ],
   "source": [
    "torch.tensor([]).size()"
   ]
  },
  {
   "cell_type": "code",
   "execution_count": 54,
   "id": "1863d2d1-8eb1-4f7b-9b33-f672426b4461",
   "metadata": {},
   "outputs": [],
   "source": [
    "G = torch.tensor([[0, 1, 0, 1],\n",
    "                  [1, 0, 1, 0],\n",
    "                  [0, 1, 0, 1],\n",
    "                  [1, 0, 1, 0]], dtype=torch.int)"
   ]
  },
  {
   "cell_type": "code",
   "execution_count": 55,
   "id": "2eabd144-94ae-4517-baa9-e100d099cb5c",
   "metadata": {
    "tags": []
   },
   "outputs": [],
   "source": [
    "x = torch.arange(G[:, 0].shape[0], dtype=torch.int)"
   ]
  },
  {
   "cell_type": "code",
   "execution_count": 56,
   "id": "a52614e7-8efc-4d3f-9eea-cde45c2ea314",
   "metadata": {
    "tags": []
   },
   "outputs": [],
   "source": [
    "y = ['a', 'b', 'c', 'd']"
   ]
  },
  {
   "cell_type": "code",
   "execution_count": 57,
   "id": "fcae15e4-aed3-4197-a64a-00054fbb1aae",
   "metadata": {
    "tags": []
   },
   "outputs": [],
   "source": [
    "z = [y[each.item()] for each in x[G[:, 0] == 1]]"
   ]
  },
  {
   "cell_type": "code",
   "execution_count": 58,
   "id": "b147fe65-86e3-4edf-8516-993908e4f420",
   "metadata": {
    "tags": []
   },
   "outputs": [
    {
     "data": {
      "text/plain": [
       "['b', 'd']"
      ]
     },
     "execution_count": 58,
     "metadata": {},
     "output_type": "execute_result"
    }
   ],
   "source": [
    "z"
   ]
  },
  {
   "cell_type": "code",
   "execution_count": 59,
   "id": "c3b6b6fa-fc3b-4ed1-8850-86d2a2be3efd",
   "metadata": {
    "tags": []
   },
   "outputs": [
    {
     "data": {
      "text/plain": [
       "tensor([False,  True, False,  True])"
      ]
     },
     "execution_count": 59,
     "metadata": {},
     "output_type": "execute_result"
    }
   ],
   "source": [
    "G[:, 0] == 1"
   ]
  },
  {
   "cell_type": "code",
   "execution_count": 62,
   "id": "22000d8e-0ab3-42fc-ae2b-1592fce1cefc",
   "metadata": {
    "tags": []
   },
   "outputs": [],
   "source": [
    "def func(a):\n",
    "    def inner_func(x, y):\n",
    "        return x + a * y\n",
    "    return inner_func"
   ]
  },
  {
   "cell_type": "code",
   "execution_count": 63,
   "id": "506187e6-b15a-4853-ab7f-83faaf8ad701",
   "metadata": {
    "tags": []
   },
   "outputs": [],
   "source": [
    "a = 0.1\n",
    "f = func(a)"
   ]
  },
  {
   "cell_type": "code",
   "execution_count": 64,
   "id": "f0e25804-da87-482e-a07d-614569d30849",
   "metadata": {
    "tags": []
   },
   "outputs": [
    {
     "data": {
      "text/plain": [
       "1.2"
      ]
     },
     "execution_count": 64,
     "metadata": {},
     "output_type": "execute_result"
    }
   ],
   "source": [
    "f(1, 2)"
   ]
  },
  {
   "cell_type": "code",
   "execution_count": null,
   "id": "0003030c-90f8-44b1-ad7b-0c5796539aa4",
   "metadata": {},
   "outputs": [],
   "source": []
  }
 ],
 "metadata": {
  "kernelspec": {
   "display_name": "Python 3 (ipykernel)",
   "language": "python",
   "name": "python3"
  },
  "language_info": {
   "codemirror_mode": {
    "name": "ipython",
    "version": 3
   },
   "file_extension": ".py",
   "mimetype": "text/x-python",
   "name": "python",
   "nbconvert_exporter": "python",
   "pygments_lexer": "ipython3",
   "version": "3.10.12"
  }
 },
 "nbformat": 4,
 "nbformat_minor": 5
}
