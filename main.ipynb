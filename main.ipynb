{
 "cells": [
  {
   "cell_type": "code",
   "execution_count": 1,
   "id": "62573964-5bad-4bec-827b-59068eb3d2b2",
   "metadata": {
    "tags": []
   },
   "outputs": [],
   "source": [
    "import torch\n",
    "import distributed_system as Dissys\n",
    "from torch.utils.tensorboard import SummaryWriter"
   ]
  },
  {
   "cell_type": "code",
   "execution_count": 23,
   "id": "6aa9f5b8-384b-4018-b48a-fc5f10443386",
   "metadata": {},
   "outputs": [],
   "source": [
    "# tensorboard\n",
    "tensorboard_log_path = \"2-params-data_log\"\n",
    "tensorboard_tag_name = \"total loss 3\""
   ]
  },
  {
   "cell_type": "code",
   "execution_count": 3,
   "id": "86edf8b4-ed5d-4956-9cce-6edda0453374",
   "metadata": {
    "tags": []
   },
   "outputs": [],
   "source": [
    "# 超参数\n",
    "alpha = 0.01\n",
    "num_epochs = 500"
   ]
  },
  {
   "cell_type": "code",
   "execution_count": 4,
   "id": "965e0337-daa1-4d12-8147-5b2ddd2af954",
   "metadata": {
    "tags": []
   },
   "outputs": [],
   "source": [
    "# 构造数据\n",
    "x = [[torch.tensor([-1, -1]), torch.tensor([1, 3])],\n",
    "     [torch.tensor([0, 1])],\n",
    "     [torch.tensor([-0.5, 0])],\n",
    "     [torch.tensor([-2, -3])]]"
   ]
  },
  {
   "cell_type": "code",
   "execution_count": 5,
   "id": "248eda15-85f1-4de1-a57b-c3121a9eb0ca",
   "metadata": {
    "tags": []
   },
   "outputs": [],
   "source": [
    "# 参数\n",
    "params = torch.zeros(2, requires_grad=True)"
   ]
  },
  {
   "cell_type": "code",
   "execution_count": 24,
   "id": "17de5472-9298-4991-a36a-23a405cbc316",
   "metadata": {
    "tags": []
   },
   "outputs": [],
   "source": [
    "# 更新参数\n",
    "dissys.renew_params(params)"
   ]
  },
  {
   "cell_type": "code",
   "execution_count": 6,
   "id": "74a9c7ec-6f0d-4404-8982-c3fff47f11db",
   "metadata": {
    "tags": []
   },
   "outputs": [],
   "source": [
    "# 函数\n",
    "def func(_data:torch.Tensor, _params:torch.Tensor) -> torch.Tensor:\n",
    "    return torch.sum(\n",
    "        (_params[0] * _data[:, 0] + _params[1] - _data[:, 1]) ** 2)\n",
    "\n",
    "\n",
    "def outer_grad_func(_alpha):\n",
    "    def inner_grad_func(_params_local:torch.Tensor, _params_mailbox:list[torch.Tensor]) -> torch.Tensor:\n",
    "        len_mailbox = len(_params_mailbox)\n",
    "        g = torch.zeros_like(_params_local.grad)\n",
    "        for i in range(0, len_mailbox):\n",
    "            g += _params_mailbox[i].grad\n",
    "        g /= len_mailbox\n",
    "        g += _params_local.grad\n",
    "        g *= _alpha\n",
    "        return g\n",
    "    return inner_grad_func\n",
    "\n",
    "\n",
    "grad_func = outer_grad_func(alpha)"
   ]
  },
  {
   "cell_type": "code",
   "execution_count": 7,
   "id": "dc4b52cf-c758-44b2-a9f8-823028a7800e",
   "metadata": {
    "tags": []
   },
   "outputs": [],
   "source": [
    "dissys = Dissys.distributed_sys(func, x, params)"
   ]
  },
  {
   "cell_type": "code",
   "execution_count": 8,
   "id": "20f8142c-9588-42c3-9c54-f86574fa6321",
   "metadata": {
    "tags": []
   },
   "outputs": [],
   "source": [
    "dissys.create_com_mat()"
   ]
  },
  {
   "cell_type": "code",
   "execution_count": 9,
   "id": "b6d12ed4-ed03-4629-a065-a3b46cd3ceb6",
   "metadata": {
    "tags": []
   },
   "outputs": [
    {
     "data": {
      "text/plain": [
       "tensor([[0, 1, 0, 1],\n",
       "        [1, 0, 1, 0],\n",
       "        [0, 1, 0, 1],\n",
       "        [1, 0, 1, 0]], dtype=torch.int32)"
      ]
     },
     "execution_count": 9,
     "metadata": {},
     "output_type": "execute_result"
    }
   ],
   "source": [
    "dissys.com_mat"
   ]
  },
  {
   "cell_type": "code",
   "execution_count": 18,
   "id": "02d6fc11-213d-483c-864a-2c916c044687",
   "metadata": {
    "tags": []
   },
   "outputs": [
    {
     "name": "stdout",
     "output_type": "stream",
     "text": [
      "tensor([[0, 1, 0, 0],\n",
      "        [1, 0, 1, 0],\n",
      "        [0, 1, 0, 1],\n",
      "        [0, 0, 1, 0]], dtype=torch.int32)\n"
     ]
    }
   ],
   "source": [
    "dissys.disconnect_nodes(0, 3)\n",
    "print(dissys.com_mat)"
   ]
  },
  {
   "cell_type": "code",
   "execution_count": 25,
   "id": "dcb4e9e3-47f0-4af6-bfba-8db81fd5c8c3",
   "metadata": {
    "tags": []
   },
   "outputs": [
    {
     "data": {
      "text/plain": [
       "20.0"
      ]
     },
     "execution_count": 25,
     "metadata": {},
     "output_type": "execute_result"
    }
   ],
   "source": [
    "dissys.forward_all(requires_grad=False).item()"
   ]
  },
  {
   "cell_type": "code",
   "execution_count": 26,
   "id": "1b2add77-c3e4-4c9a-8c9a-aa6c9ba09ecd",
   "metadata": {
    "tags": []
   },
   "outputs": [],
   "source": [
    "writer = SummaryWriter(tensorboard_log_path)\n",
    "for epoch in range(num_epochs):\n",
    "    dissys.backward_all()\n",
    "    dissys.send()\n",
    "    dissys.backward_mailbox_all()\n",
    "    dissys.iterate_all(grad_func)\n",
    "    # 写入tensorboard\n",
    "    loss = dissys.forward_all(requires_grad=False)\n",
    "    # loss = torch.log(loss).item()\n",
    "    writer.add_scalar(tensorboard_tag_name, loss, epoch)\n",
    "writer.close()"
   ]
  },
  {
   "cell_type": "code",
   "execution_count": 27,
   "id": "1755b0a0-4a19-45d5-8e26-8a1a8e8429ff",
   "metadata": {
    "tags": []
   },
   "outputs": [
    {
     "name": "stdout",
     "output_type": "stream",
     "text": [
      "tensor([2.0037, 0.9982], requires_grad=True)\n",
      "tensor([2.4029, 0.9945], requires_grad=True)\n",
      "tensor([1.4447, 0.7150], requires_grad=True)\n",
      "tensor([ 1.2012, -0.6006], requires_grad=True)\n"
     ]
    }
   ],
   "source": [
    "for node_i in dissys:\n",
    "    print(node_i.params)"
   ]
  },
  {
   "cell_type": "code",
   "execution_count": null,
   "id": "12bb0059-901f-4a27-90df-482b6bb8b07a",
   "metadata": {},
   "outputs": [],
   "source": []
  }
 ],
 "metadata": {
  "kernelspec": {
   "display_name": "Python 3 (ipykernel)",
   "language": "python",
   "name": "python3"
  },
  "language_info": {
   "codemirror_mode": {
    "name": "ipython",
    "version": 3
   },
   "file_extension": ".py",
   "mimetype": "text/x-python",
   "name": "python",
   "nbconvert_exporter": "python",
   "pygments_lexer": "ipython3",
   "version": "3.10.12"
  }
 },
 "nbformat": 4,
 "nbformat_minor": 5
}
